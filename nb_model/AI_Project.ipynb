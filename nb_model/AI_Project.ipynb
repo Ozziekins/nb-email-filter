{
  "nbformat": 4,
  "nbformat_minor": 0,
  "metadata": {
    "colab": {
      "provenance": []
    },
    "kernelspec": {
      "name": "python3",
      "display_name": "Python 3"
    },
    "language_info": {
      "name": "python"
    }
  },
  "cells": [
    {
      "cell_type": "code",
      "execution_count": 1,
      "metadata": {
        "id": "U8Emki787old"
      },
      "outputs": [],
      "source": [
        "import os\n",
        "import re\n",
        "import math\n",
        "import random\n",
        "import json\n",
        "import zipfile\n",
        "import joblib\n",
        "from collections import defaultdict\n",
        "import numpy as np\n",
        "import matplotlib.pyplot as plt\n",
        "import seaborn as sns\n",
        "import pandas as pd\n",
        "from sklearn.model_selection import train_test_split\n",
        "from sklearn.metrics import accuracy_score, precision_score, recall_score, f1_score\n",
        "\n",
        "class NaiveBayesClassifier:\n",
        "    def __init__(self):\n",
        "        self.spam_prob = 0\n",
        "        self.ham_prob = 0\n",
        "        self.spam_word_probs = defaultdict(float)\n",
        "        self.ham_word_probs = defaultdict(float)\n",
        "        self.vocab = set()\n",
        "\n",
        "    def save_model(self, file_path='nb_model.joblib'):\n",
        "        joblib.dump(self, file_path)\n",
        "\n",
        "    def load_model(self, file_path='nb_model.joblib'):\n",
        "        loaded_classifier = joblib.load(file_path)\n",
        "        self.__dict__.update(loaded_classifier.__dict__)\n",
        "\n",
        "    def preprocess_text(self, text):\n",
        "        # Simple text preprocessing: lowercase and remove non-alphabetic characters\n",
        "        text = text.lower()\n",
        "        text = re.sub(r'[^a-zA-Z ]', '', text)\n",
        "        return text\n",
        "\n",
        "    def train(self, training_data):\n",
        "        spam_count = ham_count = 0\n",
        "        spam_word_counts = defaultdict(int)\n",
        "        ham_word_counts = defaultdict(int)\n",
        "\n",
        "        for text, label in training_data:\n",
        "            text = self.preprocess_text(text)\n",
        "            words = text.split()\n",
        "            for word in words:\n",
        "                if label == 'spam':\n",
        "                    spam_word_counts[word] += 1\n",
        "                else:\n",
        "                    ham_word_counts[word] += 1\n",
        "                self.vocab.add(word)\n",
        "\n",
        "            if label == 'spam':\n",
        "                spam_count += 1\n",
        "            else:\n",
        "                ham_count += 1\n",
        "\n",
        "        total_emails = spam_count + ham_count\n",
        "        self.spam_prob = spam_count / total_emails\n",
        "        self.ham_prob = ham_count / total_emails\n",
        "\n",
        "        for word in self.vocab:\n",
        "            # Laplace smoothing to handle unseen words\n",
        "            self.spam_word_probs[word] = (spam_word_counts[word] + 1) / (spam_count + 2)\n",
        "            self.ham_word_probs[word] = (ham_word_counts[word] + 1) / (ham_count + 2)\n",
        "\n",
        "    def predict(self, text):\n",
        "        text = self.preprocess_text(text)\n",
        "        words = text.split()\n",
        "\n",
        "        spam_score = math.log(self.spam_prob)\n",
        "        ham_score = math.log(self.ham_prob)\n",
        "\n",
        "        for word in words:\n",
        "            if word in self.vocab:\n",
        "                spam_score += math.log(self.spam_word_probs[word])\n",
        "                ham_score += math.log(self.ham_word_probs[word])\n",
        "\n",
        "        confidence = abs(spam_score - ham_score)\n",
        "\n",
        "        # Classify as spam if the spam_score is greater\n",
        "        predicted_class = 'spam' if spam_score > ham_score else 'ham'\n",
        "\n",
        "        return {'prediction': predicted_class, 'confidence': confidence}\n",
        "\n",
        "\n",
        "    def train_from_directory(self, zip_file_path):\n",
        "        with zipfile.ZipFile(zip_file_path, 'r') as zip_ref:\n",
        "            zip_ref.extractall('./')\n",
        "\n",
        "        directory = './emails'\n",
        "\n",
        "        ham_folder = os.path.join(directory, 'ham')\n",
        "        spam_folder = os.path.join(directory, 'spam')\n",
        "\n",
        "        ham_emails = [(self.read_email(os.path.join(ham_folder, f)), 'ham') for f in os.listdir(ham_folder)]\n",
        "        spam_emails = [(self.read_email(os.path.join(spam_folder, f)), 'spam') for f in os.listdir(spam_folder)]\n",
        "\n",
        "        # Split emails into training, validation, and test sets\n",
        "        random.shuffle(ham_emails)\n",
        "        random.shuffle(spam_emails)\n",
        "\n",
        "        ham_train_size = int(0.8 * len(ham_emails))\n",
        "        spam_train_size = int(0.8 * len(spam_emails))\n",
        "\n",
        "        training_data = ham_emails[:ham_train_size] + spam_emails[:spam_train_size]\n",
        "        validation_data = ham_emails[ham_train_size:] + spam_emails[spam_train_size:]\n",
        "\n",
        "        # Update the vocab based on the new data\n",
        "        self.train(training_data)\n",
        "\n",
        "        # Save the model to a JSON file\n",
        "        model_data = {\n",
        "            'spam_prob': self.spam_prob,\n",
        "            'ham_prob': self.ham_prob,\n",
        "            'spam_word_probs': dict(self.spam_word_probs),\n",
        "            'ham_word_probs': dict(self.ham_word_probs),\n",
        "            'vocab': list(self.vocab)\n",
        "        }\n",
        "\n",
        "        with open('nb_model_dir.json', 'w') as json_file:\n",
        "            json.dump(model_data, json_file)\n",
        "\n",
        "        return validation_data\n",
        "\n",
        "    def train_from_csv(self, csv_file_path):\n",
        "        df = pd.read_csv(csv_file_path)\n",
        "        df['Body'] = df['Body'].astype(str)\n",
        "        df['Label'] = df['Label'].astype(int).map({1: 'spam', 0: 'ham'})\n",
        "\n",
        "        # Split the dataset into training and validation sets\n",
        "        train_df, validation_df = train_test_split(df, test_size=0.2, random_state=42)\n",
        "\n",
        "        training_data = list(zip(train_df['Body'], train_df['Label']))\n",
        "        validation_data = list(zip(validation_df['Body'], validation_df['Label']))\n",
        "\n",
        "        # Update the vocab based on the new data\n",
        "        self.train(training_data)\n",
        "\n",
        "        # Save the model to a JSON file\n",
        "        model_data = {\n",
        "            'spam_prob': self.spam_prob,\n",
        "            'ham_prob': self.ham_prob,\n",
        "            'spam_word_probs': dict(self.spam_word_probs),\n",
        "            'ham_word_probs': dict(self.ham_word_probs),\n",
        "            'vocab': list(self.vocab)\n",
        "        }\n",
        "\n",
        "        with open('nb_model_csv.json', 'w') as json_file:\n",
        "            json.dump(model_data, json_file)\n",
        "\n",
        "        return validation_data\n",
        "\n",
        "    def evaluate_model(self, validation_data):\n",
        "        test_texts, true_labels = zip(*validation_data)\n",
        "        results = [self.predict(text) for text in test_texts]\n",
        "        predicted_labels = [result['prediction'] for result in results]\n",
        "\n",
        "        # Calculate metrics\n",
        "        accuracy = accuracy_score(true_labels, predicted_labels)\n",
        "        precision = precision_score(true_labels, predicted_labels, pos_label='spam')\n",
        "        recall = recall_score(true_labels, predicted_labels, pos_label='spam')\n",
        "        f1 = f1_score(true_labels, predicted_labels, pos_label='spam')\n",
        "\n",
        "        print(f\"Accuracy: {accuracy:.2f}\")\n",
        "        print(f\"Precision: {precision:.2f}\")\n",
        "        print(f\"Recall: {recall:.2f}\")\n",
        "        print(f\"F1 Score: {f1:.2f}\")\n",
        "\n",
        "        return accuracy, precision, recall, f1\n",
        "\n",
        "    def read_email(self, file_path):\n",
        "        with open(file_path, 'r', encoding='utf-8', errors='ignore') as file:\n",
        "            return file.read()\n",
        "\n",
        "    def plot_most_common_words(self, class_label, num_words=10, min_word_length=4):\n",
        "        if class_label == 'spam':\n",
        "            word_probs = self.spam_word_probs\n",
        "        elif class_label == 'ham':\n",
        "            word_probs = self.ham_word_probs\n",
        "        else:\n",
        "            raise ValueError(\"Invalid class label. Use 'spam' or 'ham'.\")\n",
        "\n",
        "        filtered_words = [word for word in word_probs if len(word) > min_word_length]\n",
        "\n",
        "        # Sort filtered words by probability\n",
        "        sorted_words = sorted(filtered_words, key=word_probs.get, reverse=True)[:num_words]\n",
        "        probabilities = [word_probs[word] for word in sorted_words]\n",
        "\n",
        "        plt.figure(figsize=(10, 6))\n",
        "        sns.barplot(x=probabilities, y=sorted_words, palette='viridis')\n",
        "        plt.title(f\"Top {num_words} Words for {class_label.capitalize()}\")\n",
        "        plt.xlabel(\"Probability\")\n",
        "        plt.ylabel(\"Word\")\n",
        "        plt.show()\n",
        "\n",
        "\n",
        "# # Small example:\n",
        "# training_data = [(\"Buy now, limited offer!\", \"spam\"), (\"Meeting at 2 pm tomorrow\", \"ham\")]\n",
        "# test_email = \"Special offer just for you!\"\n",
        "# classifier = NaiveBayesClassifier()\n",
        "# classifier.train(training_data)\n",
        "# prediction = classifier.predict(test_email)\n",
        "# print(f\"The email is classified as: {prediction}\")\n"
      ]
    },
    {
      "cell_type": "code",
      "source": [
        "# Training from a directory\n",
        "classifier = NaiveBayesClassifier()\n",
        "validation_data_dir = classifier.train_from_directory('emails.zip')\n",
        "classifier.save_model('nb_model_dir.joblib')\n",
        "print(\"Our dataset:\")\n",
        "classifier.evaluate_model(validation_data_dir)\n",
        "\n",
        "# Training from a CSV file\n",
        "classifier_csv = NaiveBayesClassifier()\n",
        "validation_data_csv = classifier_csv.train_from_csv('completeSpamAssassin.csv.zip')\n",
        "classifier_csv.save_model('nb_model_csv.joblib')\n",
        "print(\"Spam Assassin dataset:\")\n",
        "classifier_csv.evaluate_model(validation_data_csv)\n"
      ],
      "metadata": {
        "colab": {
          "base_uri": "https://localhost:8080/"
        },
        "id": "sFI4zgWNcZ-Y",
        "outputId": "a4bf9517-01c4-48f5-d15d-5918e156c03e"
      },
      "execution_count": 2,
      "outputs": [
        {
          "output_type": "stream",
          "name": "stdout",
          "text": [
            "Our dataset:\n",
            "Accuracy: 0.88\n",
            "Precision: 1.00\n",
            "Recall: 0.75\n",
            "F1 Score: 0.86\n",
            "Spam Assassin dataset:\n",
            "Accuracy: 0.96\n",
            "Precision: 0.90\n",
            "Recall: 0.99\n",
            "F1 Score: 0.94\n"
          ]
        },
        {
          "output_type": "execute_result",
          "data": {
            "text/plain": [
              "(0.9611570247933884,\n",
              " 0.9043280182232346,\n",
              " 0.9875621890547264,\n",
              " 0.9441141498216409)"
            ]
          },
          "metadata": {},
          "execution_count": 2
        }
      ]
    },
    {
      "cell_type": "code",
      "source": [
        "# Training from the larger dataset and evaluating on our dataset\n",
        "classifier_dir_train_csv_test = NaiveBayesClassifier()\n",
        "validation_data_csv_test = classifier_dir_train_csv_test.train_from_csv('completeSpamAssassin.csv.zip')\n",
        "classifier_dir_train_csv_test.save_model('nb_model_dir_train_csv_test.joblib')\n",
        "print(\"Trained on Directory, Evaluated on CSV:\")\n",
        "classifier_dir_train_csv_test.evaluate_model(validation_data_dir)\n",
        "\n",
        "# Training from our dataset and evaluating on larger dataset\n",
        "classifier_csv_train_dir_test = NaiveBayesClassifier()\n",
        "validation_data_dir_test = classifier_csv_train_dir_test.train_from_directory('emails.zip')\n",
        "classifier_csv_train_dir_test.save_model('nb_model_csv_train_dir_test.joblib')\n",
        "print(\"Trained on CSV, Evaluated on Directory:\")\n",
        "classifier_csv_train_dir_test.evaluate_model(validation_data_csv)"
      ],
      "metadata": {
        "colab": {
          "base_uri": "https://localhost:8080/"
        },
        "id": "i-APu-rXz9xP",
        "outputId": "dd351761-598a-44bf-a0e2-1d7694ec7c50"
      },
      "execution_count": 3,
      "outputs": [
        {
          "output_type": "stream",
          "name": "stdout",
          "text": [
            "Trained on Directory, Evaluated on CSV:\n",
            "Accuracy: 0.42\n",
            "Precision: 0.45\n",
            "Recall: 0.65\n",
            "F1 Score: 0.53\n",
            "Trained on CSV, Evaluated on Directory:\n",
            "Accuracy: 0.71\n",
            "Precision: 0.65\n",
            "Recall: 0.27\n",
            "F1 Score: 0.39\n"
          ]
        },
        {
          "output_type": "execute_result",
          "data": {
            "text/plain": [
              "(0.7107438016528925,\n",
              " 0.6547619047619048,\n",
              " 0.2736318407960199,\n",
              " 0.38596491228070173)"
            ]
          },
          "metadata": {},
          "execution_count": 3
        }
      ]
    },
    {
      "cell_type": "code",
      "source": [
        "import numpy as np\n",
        "\n",
        "def plot_word_probabilities(classifier, word_list):\n",
        "    spam_probs = []\n",
        "    ham_probs = []\n",
        "\n",
        "    for word in word_list:\n",
        "        if word in classifier.vocab:\n",
        "            spam_probs.append(classifier.spam_word_probs[word])\n",
        "            ham_probs.append(classifier.ham_word_probs[word])\n",
        "        else:\n",
        "            # If the word is not in the vocabulary, assume a small default probability\n",
        "            spam_probs.append(0.0001)\n",
        "            ham_probs.append(0.0001)\n",
        "\n",
        "    # Plot the probabilities for each word\n",
        "    bar_width = 0.35\n",
        "    index = np.arange(len(word_list))\n",
        "\n",
        "    plt.bar(index, spam_probs, bar_width, label='Spam')\n",
        "    plt.bar(index + bar_width, ham_probs, bar_width, label='Ham')\n",
        "\n",
        "    plt.xlabel('Words')\n",
        "    plt.ylabel('Probability')\n",
        "    plt.title('Word Probabilities for Spam and Ham')\n",
        "    plt.xticks(index + bar_width / 2, word_list)\n",
        "    plt.legend()\n",
        "    plt.show()\n",
        "\n",
        "word_list = ['agenda', 'limited', 'offer', 'special', 'meeting', 'family', 'time']\n",
        "plot_word_probabilities(classifier, word_list)"
      ],
      "metadata": {
        "colab": {
          "base_uri": "https://localhost:8080/",
          "height": 472
        },
        "id": "zGcznz3tQQKJ",
        "outputId": "5ef62a26-fdbd-447d-f6b6-150ff8ff758e"
      },
      "execution_count": 4,
      "outputs": [
        {
          "output_type": "display_data",
          "data": {
            "text/plain": [
              "<Figure size 640x480 with 1 Axes>"
            ],
            "image/png": "[encoded data removed]"
          },
          "metadata": {}
        }
      ]
    },
    {
      "cell_type": "code",
      "source": [
        "classifier.plot_most_common_words('spam', num_words=10, min_word_length=4)\n",
        "classifier.plot_most_common_words('ham', num_words=10, min_word_length=4)"
      ],
      "metadata": {
        "colab": {
          "base_uri": "https://localhost:8080/",
          "height": 1000
        },
        "id": "6PgT4p1HQKNC",
        "outputId": "c34254d5-07ee-400b-f689-57a7f48d378e"
      },
      "execution_count": 5,
      "outputs": [
        {
          "output_type": "display_data",
          "data": {
            "text/plain": [
              "<Figure size 1000x600 with 1 Axes>"
            ],
            "image/png": "[encoded data removed]"
          },
          "metadata": {}
        },
        {
          "output_type": "display_data",
          "data": {
            "text/plain": [
              "<Figure size 1000x600 with 1 Axes>"
            ],
            "image/png": "[encoded data removed]"
          },
          "metadata": {}
        }
      ]
    },
    {
      "cell_type": "code",
      "source": [
        "email_1 = \"\"\"\n",
        "Thank you for your purchase. We appreciate your business and want to ensure your satisfaction.\n",
        "\n",
        "    To show our appreciation, we're offering you an exclusive discount on your next purchase. Simply use the promo code THANKYOU15 at checkout to enjoy a 15% discount on your entire order.\n",
        "\n",
        "    This special offer is valid for the next 7 days, so don't miss out. Shop now and save on your favorite products!\n",
        "\n",
        "    [Shop Now]\n",
        "\n",
        "    We look forward to serving you again soon.\n",
        "\n",
        "    Best regards,\n",
        "    Customer Support Team\n",
        "\"\"\"\n",
        "\n",
        "email_2 = \"\"\"\n",
        "Limited-time Offer: Save 50% Today!\n",
        "\n",
        "      Congratulations! You've been selected for an exclusive limited-time offer. Shop now and enjoy a 50% discount on a wide range of products.\n",
        "\n",
        "      Use code SAVE50 at checkout to claim your discount. This offer is very real and valid until 31st December. Don't miss out on the savings.\n",
        "\n",
        "      Visit our online store and start shopping today!\n",
        "\n",
        "      [Shop Now]\n",
        "\n",
        "      Yours sincerely,\n",
        "      Nigerian prince\n",
        "\"\"\"\n",
        "\n",
        "prediction_1 = classifier.predict(email_1)\n",
        "prediction_2 = classifier.predict(email_2)\n",
        "\n",
        "print(f\"Prediction for Email 1: {prediction_1}\")\n",
        "print(f\"Prediction for Email 2: {prediction_2}\")\n"
      ],
      "metadata": {
        "colab": {
          "base_uri": "https://localhost:8080/"
        },
        "id": "0h9rWLtjfC4w",
        "outputId": "3a15b988-f222-4325-f8e7-45737d8b163d"
      },
      "execution_count": 6,
      "outputs": [
        {
          "output_type": "stream",
          "name": "stdout",
          "text": [
            "Prediction for Email 1: {'prediction': 'ham', 'confidence': 12.201317316077336}\n",
            "Prediction for Email 2: {'prediction': 'spam', 'confidence': 2.660874052268227}\n"
          ]
        }
      ]
    },
    {
      "cell_type": "code",
      "source": [
        "import math\n",
        "import os\n",
        "\n",
        "with zipfile.ZipFile('emails.zip', 'r') as zip_ref:\n",
        "            zip_ref.extractall('./')\n",
        "\n",
        "def words(filename):\n",
        "\t# Get list of lines\n",
        "\tinfile = open(filename,'r')\n",
        "\tlines = infile.readlines()\n",
        "\tinfile.close()\n",
        "\n",
        "\t# For each line, delimit word by space\n",
        "\t# and add to list of words. Also, convert\n",
        "\t# all words to lowercase for convenience\n",
        "\treturn [word.strip().lower() for line in lines for word in line.split()]\n",
        "\n",
        "def lexicon(k, spam_training_directory, ham_training_directory):\n",
        "\t# Create spam distribution\n",
        "\tspam_distribution = {}\n",
        "\tfiles = os.listdir(spam_training_directory)\n",
        "\tfor file in files:\n",
        "\t\tlist_of_words = words(spam_training_directory + '/' + file)\n",
        "\t\tfor word in list_of_words:\n",
        "\t\t\tif word in spam_distribution:\n",
        "\t\t\t\tspam_distribution[word] += 1\n",
        "\t\t\telse:\n",
        "\t\t\t\tspam_distribution[word] = 1\n",
        "\n",
        "\t# Create ham distribution\n",
        "\tham_distribution = {}\n",
        "\tfiles = os.listdir(ham_training_directory)\n",
        "\tfor file in files:\n",
        "\t\tlist_of_words = words(ham_training_directory + '/' + file)\n",
        "\t\tfor word in list_of_words:\n",
        "\t\t\tif word in ham_distribution:\n",
        "\t\t\t\tham_distribution[word] += 1\n",
        "\t\t\telse:\n",
        "\t\t\t\tham_distribution[word] = 1\n",
        "\n",
        "\t# Remove all key,value pairs that\n",
        "\t# have a value less than k\n",
        "\thamkeys  = list(ham_distribution.keys())\n",
        "\tspamkeys = list(spam_distribution.keys())\n",
        "\n",
        "\tfor key in spamkeys:\n",
        "\t\tif spam_distribution[key] < k:\n",
        "\t\t\tdel spam_distribution[key]\n",
        "\n",
        "\tfor key in hamkeys:\n",
        "\t\tif ham_distribution[key] < k:\n",
        "\t\t\tdel ham_distribution[key]\n",
        "\n",
        "\treturn ham_distribution, spam_distribution\n",
        "\n",
        "def probability(word, category, ham_distribution, spam_distribution, m):\n",
        "\t# Compute P(w = word | category), smoothing the result\n",
        "\t# with Laplacian Smoothing with parameter m\n",
        "\n",
        "\tdistribution = ham_distribution if category == 'ham' else spam_distribution\n",
        "\n",
        "\tV = len(distribution)\n",
        "\n",
        "\tkeys = distribution.keys()\n",
        "\n",
        "\tnumerator = (distribution[word] + m if word in keys else m)\n",
        "\tdenominator = sum([distribution[key] for key in keys]) + m*V\n",
        "\n",
        "\treturn numerator / float(denominator)\n",
        "\n",
        "def classify_email(email, ham_distribution, spam_distribution, m):\n",
        "\temail_words = words(email)\n",
        "\n",
        "\tham_probability  = 0\n",
        "\tspam_probability = 0\n",
        "\n",
        "\tfor word in email_words:\n",
        "\t\tham_probability  += math.log(probability(word, 'ham', ham_distribution, spam_distribution, m))\n",
        "\t\tspam_probability += math.log(probability(word, 'spam', ham_distribution, spam_distribution, m))\n",
        "\n",
        "\treturn 'ham' if ham_probability > spam_probability else 'spam'\n",
        "\n",
        "def test_filter(hamtraining, spamtraining, hamtesting, spamtesting, k, m):\n",
        "\tham_distribution, spam_distribution = lexicon(k, spamtraining, hamtraining)\n",
        "\n",
        "\tspam_as_ham = []\n",
        "\tham_as_spam = []\n",
        "\n",
        "\tham_hit   = 0\n",
        "\tham_total = 0\n",
        "\tham_testing_files = os.listdir(hamtesting)\n",
        "\tfor file in ham_testing_files:\n",
        "\t\tif classify_email(hamtesting + '/' + file, ham_distribution, spam_distribution, m) == 'ham':\n",
        "\t\t\tham_hit += 1\n",
        "\t\telse:\n",
        "\t\t\tham_as_spam.append(file)\n",
        "\t\tham_total += 1\n",
        "\n",
        "\tspam_hit   = 0\n",
        "\tspam_total = 0\n",
        "\tspam_testing_files = os.listdir(spamtesting)\n",
        "\tfor file in spam_testing_files:\n",
        "\t\tif classify_email(spamtesting + '/' + file, ham_distribution, spam_distribution, m) == 'spam':\n",
        "\t\t\tspam_hit += 1\n",
        "\t\telse:\n",
        "\t\t\tspam_as_ham.append(file)\n",
        "\t\tspam_total += 1\n",
        "\n",
        "\tham_hit_ratio  = ham_hit / float(ham_total)\n",
        "\tspam_hit_ratio = spam_hit / float(spam_total)\n",
        "\n",
        "\treturn ham_hit_ratio, spam_hit_ratio, ham_total, spam_total, ham_as_spam, spam_as_ham\n",
        "\n",
        "# ---------- CODE STARTS HERE ----------\n",
        "\n",
        "# Randomly split the dataset into training and testing\n",
        "emails_directory = os.getcwd() + '/emails'\n",
        "ham_emails = os.listdir(emails_directory + '/ham')\n",
        "spam_emails = os.listdir(emails_directory + '/spam')\n",
        "\n",
        "# Shuffle the emails randomly\n",
        "random.shuffle(ham_emails)\n",
        "random.shuffle(spam_emails)\n",
        "\n",
        "# Split 80% for training and 20% for testing\n",
        "ham_train = ham_emails[:int(0.8 * len(ham_emails))]\n",
        "spam_train = spam_emails[:int(0.8 * len(spam_emails))]\n",
        "\n",
        "ham_test = ham_emails[int(0.8 * len(ham_emails)):]\n",
        "spam_test = spam_emails[int(0.8 * len(spam_emails)):]\n",
        "\n",
        "# Create training and testing directories\n",
        "ham_training_directory = os.getcwd() + '/emails_train/ham'\n",
        "spam_training_directory = os.getcwd() + '/emails_train/spam'\n",
        "\n",
        "ham_testing_directory = os.getcwd() + '/emails_test/ham'\n",
        "spam_testing_directory = os.getcwd() + '/emails_test/spam'\n",
        "\n",
        "# Create directories if they don't exist\n",
        "os.makedirs(ham_training_directory, exist_ok=True)\n",
        "os.makedirs(spam_training_directory, exist_ok=True)\n",
        "os.makedirs(ham_testing_directory, exist_ok=True)\n",
        "os.makedirs(spam_testing_directory, exist_ok=True)\n",
        "\n",
        "# Move emails to training and testing directories\n",
        "for email in ham_train:\n",
        "    os.rename(emails_directory + '/ham/' + email, ham_training_directory + '/' + email)\n",
        "\n",
        "for email in spam_train:\n",
        "    os.rename(emails_directory + '/spam/' + email, spam_training_directory + '/' + email)\n",
        "\n",
        "for email in ham_test:\n",
        "    os.rename(emails_directory + '/ham/' + email, ham_testing_directory + '/' + email)\n",
        "\n",
        "for email in spam_test:\n",
        "    os.rename(emails_directory + '/spam/' + email, spam_testing_directory + '/' + email)\n",
        "\n",
        "\n",
        "ham_hit_ratio, spam_hit_ratio, ham_total, spam_total, ham_as_spam, spam_as_ham = test_filter(ham_training_directory, spam_training_directory, ham_testing_directory, spam_testing_directory, k=5, m=1)\n",
        "\n",
        "print ()\n",
        "print (\"Correct Ham Percentage:     \", ham_hit_ratio * 100)\n",
        "print (\"Correct Spam Percentage:    \", spam_hit_ratio * 100)\n",
        "print (\"Correct Overall Percentage: \", (ham_hit_ratio*ham_total + spam_hit_ratio*spam_total) / (ham_total + spam_total) * 100)\n",
        "\n",
        "print (\"\\nHam Incorrectly Labelled as Spam:\")\n",
        "for file in ham_as_spam:\n",
        "\tprint (\"\\t\"+file)\n",
        "\n",
        "print (\"\\nSpam Incorrectly Labelled as Ham:\")\n",
        "for file in spam_as_ham:\n",
        "\tprint (\"\\t\"+file)\n",
        "print\n"
      ],
      "metadata": {
        "colab": {
          "base_uri": "https://localhost:8080/"
        },
        "id": "f8nsUNKnsT8M",
        "outputId": "4c9f7b08-23dc-4e89-9945-12f24fb863d8"
      },
      "execution_count": 7,
      "outputs": [
        {
          "output_type": "stream",
          "name": "stdout",
          "text": [
            "\n",
            "Correct Ham Percentage:      100.0\n",
            "Correct Spam Percentage:     95.0\n",
            "Correct Overall Percentage:  97.5\n",
            "\n",
            "Ham Incorrectly Labelled as Spam:\n",
            "\n",
            "Spam Incorrectly Labelled as Ham:\n",
            "\tspam1.txt\n"
          ]
        },
        {
          "output_type": "execute_result",
          "data": {
            "text/plain": [
              "<function print>"
            ]
          },
          "metadata": {},
          "execution_count": 7
        }
      ]
    },
    {
      "cell_type": "code",
      "source": [
        "# Calculate True Positives, False Positives, False Negatives\n",
        "true_positives_spam = spam_total * spam_hit_ratio\n",
        "false_positives_spam = spam_total - true_positives_spam\n",
        "false_negatives_spam = 1 - spam_hit_ratio\n",
        "\n",
        "true_positives_ham = ham_total * ham_hit_ratio\n",
        "false_positives_ham = ham_total - true_positives_ham\n",
        "false_negatives_ham = 1 - ham_hit_ratio\n",
        "\n",
        "# Calculate overall metrics\n",
        "overall_true_positives = true_positives_spam + true_positives_ham\n",
        "overall_false_positives = false_positives_spam + false_positives_ham\n",
        "overall_false_negatives = false_negatives_spam + false_negatives_ham\n",
        "\n",
        "overall_precision = overall_true_positives / (overall_true_positives + overall_false_positives)\n",
        "overall_recall = overall_true_positives / (overall_true_positives + overall_false_negatives)\n",
        "overall_accuracy = (overall_true_positives) / (spam_total + ham_total)\n",
        "overall_f1 = 2 * (overall_precision * overall_recall) / (overall_precision + overall_recall)\n",
        "\n",
        "# Print the overall metrics\n",
        "print(\"\\nOverall Precision:\", overall_precision)\n",
        "print(\"Overall Recall:\", overall_recall)\n",
        "print(\"Overall Accuracy:\", overall_accuracy)\n",
        "print(\"Overall F1 Score:\", overall_f1)\n"
      ],
      "metadata": {
        "colab": {
          "base_uri": "https://localhost:8080/"
        },
        "id": "9Cmy_eFVSFHJ",
        "outputId": "e35b0110-9784-4d76-f094-6261d753ba6d"
      },
      "execution_count": 8,
      "outputs": [
        {
          "output_type": "stream",
          "name": "stdout",
          "text": [
            "\n",
            "Overall Precision: 0.975\n",
            "Overall Recall: 0.9987195902688861\n",
            "Overall Accuracy: 0.975\n",
            "Overall F1 Score: 0.9867172675521821\n"
          ]
        }
      ]
    },
    {
      "cell_type": "code",
      "source": [
        "import shutil\n",
        "\n",
        "# Clean up training and testing directories\n",
        "shutil.rmtree(ham_training_directory)\n",
        "shutil.rmtree(spam_training_directory)\n",
        "shutil.rmtree(ham_testing_directory)\n",
        "shutil.rmtree(spam_testing_directory)\n",
        "\n",
        "print(\"Directories cleaned up.\")\n"
      ],
      "metadata": {
        "colab": {
          "base_uri": "https://localhost:8080/"
        },
        "id": "OUmOoCxTSbdF",
        "outputId": "dc8fd2e0-a084-4b13-b70e-21e2df31de90"
      },
      "execution_count": 9,
      "outputs": [
        {
          "output_type": "stream",
          "name": "stdout",
          "text": [
            "Directories cleaned up.\n"
          ]
        }
      ]
    }
  ]
}